{
 "cells": [
  {
   "cell_type": "markdown",
   "metadata": {
    "collapsed": true,
    "deletable": true,
    "editable": true
   },
   "source": [
    "# Language Translation\n",
    "In this project, you’re going to take a peek into the realm of neural network machine translation.  You’ll be training a sequence to sequence model on a dataset of English and French sentences that can translate new sentences from English to French.\n",
    "## Get the Data\n",
    "Since translating the whole language of English to French will take lots of time to train, we have provided you with a small portion of the English corpus."
   ]
  },
  {
   "cell_type": "code",
   "execution_count": 16,
   "metadata": {
    "collapsed": false,
    "deletable": true,
    "editable": true
   },
   "outputs": [],
   "source": [
    "\"\"\"\n",
    "DON'T MODIFY ANYTHING IN THIS CELL\n",
    "\"\"\"\n",
    "import helper\n",
    "import problem_unittests as tests\n",
    "\n",
    "source_path = 'data/small_vocab_en'\n",
    "target_path = 'data/small_vocab_fr'\n",
    "source_text = helper.load_data(source_path)\n",
    "target_text = helper.load_data(target_path)"
   ]
  },
  {
   "cell_type": "markdown",
   "metadata": {
    "deletable": true,
    "editable": true
   },
   "source": [
    "## Explore the Data\n",
    "Play around with view_sentence_range to view different parts of the data."
   ]
  },
  {
   "cell_type": "code",
   "execution_count": 17,
   "metadata": {
    "collapsed": false,
    "deletable": true,
    "editable": true
   },
   "outputs": [
    {
     "name": "stdout",
     "output_type": "stream",
     "text": [
      "Dataset Stats\n",
      "Roughly the number of unique words: 227\n",
      "Number of sentences: 137861\n",
      "Average number of words in a sentence: 13.225277634719028\n",
      "\n",
      "English sentences 52 to 64:\n",
      "france is usually quiet during november , but it is sometimes warm in february .\n",
      "new jersey is never wet during november , and it is mild in august .\n",
      "we like peaches , pears , and strawberries .\n",
      "the orange is her least liked fruit , but the grapefruit is their least liked .\n",
      "china is never rainy during november , and it is quiet in january .\n",
      "china is relaxing during march , but it is sometimes snowy in september .\n",
      "paris is wonderful during march , but it is usually pleasant in june .\n",
      "new jersey is chilly during autumn , and it is sometimes pleasant in spring .\n",
      "california is never freezing during october , but it is usually quiet in june .\n",
      "new jersey is freezing during winter , but it is sometimes wonderful in january .\n",
      "i like grapes , pears , and strawberries .\n",
      "the lemon is my most loved fruit , but the strawberry is our most loved .\n",
      "\n",
      "French sentences 52 to 64:\n",
      "la france est généralement calme en novembre , mais il est parfois chaud en février .\n",
      "new jersey est jamais humide au mois de novembre , et il est doux au mois d' août .\n",
      "nous aimons les pêches , les poires et les fraises .\n",
      "l'orange est la moins aimé des fruits , mais le pamplemousse est leur moins aimé .\n",
      "chine est jamais pluvieux en novembre , et il est calme en janvier .\n",
      "chine est relaxant au mois de mars , mais il est parfois enneigée en septembre .\n",
      "paris est merveilleux au mois de mars , mais il est généralement agréable en juin .\n",
      "new jersey est froid au cours de l' automne , et il est parfois agréable au printemps .\n",
      "la californie est jamais le gel en octobre , mais il est généralement calme en juin .\n",
      "new jersey est le gel pendant l' hiver , mais il est parfois merveilleux en janvier .\n",
      "j'aime les raisins , les poires et les fraises .\n",
      "le citron est mon fruit le plus aimé , mais la fraise est notre plus aimé .\n"
     ]
    }
   ],
   "source": [
    "view_sentence_range = (52, 64)\n",
    "\n",
    "\"\"\"\n",
    "DON'T MODIFY ANYTHING IN THIS CELL\n",
    "\"\"\"\n",
    "import numpy as np\n",
    "\n",
    "print('Dataset Stats')\n",
    "print('Roughly the number of unique words: {}'.format(len({word: None for word in source_text.split()})))\n",
    "\n",
    "sentences = source_text.split('\\n')\n",
    "word_counts = [len(sentence.split()) for sentence in sentences]\n",
    "print('Number of sentences: {}'.format(len(sentences)))\n",
    "print('Average number of words in a sentence: {}'.format(np.average(word_counts)))\n",
    "\n",
    "print()\n",
    "print('English sentences {} to {}:'.format(*view_sentence_range))\n",
    "print('\\n'.join(source_text.split('\\n')[view_sentence_range[0]:view_sentence_range[1]]))\n",
    "print()\n",
    "print('French sentences {} to {}:'.format(*view_sentence_range))\n",
    "print('\\n'.join(target_text.split('\\n')[view_sentence_range[0]:view_sentence_range[1]]))"
   ]
  },
  {
   "cell_type": "markdown",
   "metadata": {
    "deletable": true,
    "editable": true
   },
   "source": [
    "## Implement Preprocessing Function\n",
    "### Text to Word Ids\n",
    "As you did with other RNNs, you must turn the text into a number so the computer can understand it. In the function `text_to_ids()`, you'll turn `source_text` and `target_text` from words to ids.  However, you need to add the `<EOS>` word id at the end of each sentence from `target_text`.  This will help the neural network predict when the sentence should end.\n",
    "\n",
    "You can get the `<EOS>` word id by doing:\n",
    "```python\n",
    "target_vocab_to_int['<EOS>']\n",
    "```\n",
    "You can get other word ids using `source_vocab_to_int` and `target_vocab_to_int`."
   ]
  },
  {
   "cell_type": "code",
   "execution_count": 18,
   "metadata": {
    "collapsed": false,
    "deletable": true,
    "editable": true
   },
   "outputs": [
    {
     "name": "stdout",
     "output_type": "stream",
     "text": [
      "Tests Passed\n"
     ]
    }
   ],
   "source": [
    "def text_to_ids(source_text, target_text, source_vocab_to_int, target_vocab_to_int):\n",
    "    \"\"\"\n",
    "    Convert source and target text to proper word ids\n",
    "    :param source_text: String that contains all the source text.\n",
    "    :param target_text: String that contains all the target text.\n",
    "    :param source_vocab_to_int: Dictionary to go from the source words to an id\n",
    "    :param target_vocab_to_int: Dictionary to go from the target words to an id\n",
    "    :return: A tuple of lists (source_id_text, target_id_text)\n",
    "    \"\"\"\n",
    "    # TODO: Implement Function\n",
    "    source_id_text = [[source_vocab_to_int[word] for word in sentence.split()] for sentence in source_text.split('\\n')]\n",
    "    target_id_text = [[target_vocab_to_int[word] for word in sentence.split()] + [target_vocab_to_int['<EOS>']] for sentence in target_text.split('\\n')]\n",
    "    return (source_id_text, target_id_text)\n",
    "\n",
    "\"\"\"\n",
    "DON'T MODIFY ANYTHING IN THIS CELL THAT IS BELOW THIS LINE\n",
    "\"\"\"\n",
    "tests.test_text_to_ids(text_to_ids)"
   ]
  },
  {
   "cell_type": "markdown",
   "metadata": {
    "deletable": true,
    "editable": true
   },
   "source": [
    "### Preprocess all the data and save it\n",
    "Running the code cell below will preprocess all the data and save it to file."
   ]
  },
  {
   "cell_type": "code",
   "execution_count": 19,
   "metadata": {
    "collapsed": false,
    "deletable": true,
    "editable": true
   },
   "outputs": [],
   "source": [
    "\"\"\"\n",
    "DON'T MODIFY ANYTHING IN THIS CELL\n",
    "\"\"\"\n",
    "helper.preprocess_and_save_data(source_path, target_path, text_to_ids)"
   ]
  },
  {
   "cell_type": "markdown",
   "metadata": {
    "deletable": true,
    "editable": true
   },
   "source": [
    "# Check Point\n",
    "This is your first checkpoint. If you ever decide to come back to this notebook or have to restart the notebook, you can start from here. The preprocessed data has been saved to disk."
   ]
  },
  {
   "cell_type": "code",
   "execution_count": 20,
   "metadata": {
    "collapsed": false,
    "deletable": true,
    "editable": true
   },
   "outputs": [],
   "source": [
    "\"\"\"\n",
    "DON'T MODIFY ANYTHING IN THIS CELL\n",
    "\"\"\"\n",
    "import numpy as np\n",
    "import helper\n",
    "\n",
    "(source_int_text, target_int_text), (source_vocab_to_int, target_vocab_to_int), _ = helper.load_preprocess()"
   ]
  },
  {
   "cell_type": "markdown",
   "metadata": {
    "deletable": true,
    "editable": true
   },
   "source": [
    "### Check the Version of TensorFlow and Access to GPU\n",
    "This will check to make sure you have the correct version of TensorFlow and access to a GPU"
   ]
  },
  {
   "cell_type": "code",
   "execution_count": 21,
   "metadata": {
    "collapsed": false,
    "deletable": true,
    "editable": true
   },
   "outputs": [
    {
     "name": "stdout",
     "output_type": "stream",
     "text": [
      "TensorFlow Version: 1.0.0\n",
      "Default GPU Device: /gpu:0\n"
     ]
    }
   ],
   "source": [
    "\"\"\"\n",
    "DON'T MODIFY ANYTHING IN THIS CELL\n",
    "\"\"\"\n",
    "from distutils.version import LooseVersion\n",
    "import warnings\n",
    "import tensorflow as tf\n",
    "\n",
    "# Check TensorFlow Version\n",
    "assert LooseVersion(tf.__version__) == LooseVersion('1.0.0'), 'This project requires TensorFlow version 1.0  You are using {}'.format(tf.__version__)\n",
    "print('TensorFlow Version: {}'.format(tf.__version__))\n",
    "\n",
    "# Check for a GPU\n",
    "if not tf.test.gpu_device_name():\n",
    "    warnings.warn('No GPU found. Please use a GPU to train your neural network.')\n",
    "else:\n",
    "    print('Default GPU Device: {}'.format(tf.test.gpu_device_name()))"
   ]
  },
  {
   "cell_type": "markdown",
   "metadata": {
    "deletable": true,
    "editable": true
   },
   "source": [
    "## Build the Neural Network\n",
    "You'll build the components necessary to build a Sequence-to-Sequence model by implementing the following functions below:\n",
    "- `model_inputs`\n",
    "- `process_decoding_input`\n",
    "- `encoding_layer`\n",
    "- `decoding_layer_train`\n",
    "- `decoding_layer_infer`\n",
    "- `decoding_layer`\n",
    "- `seq2seq_model`\n",
    "\n",
    "### Input\n",
    "Implement the `model_inputs()` function to create TF Placeholders for the Neural Network. It should create the following placeholders:\n",
    "\n",
    "- Input text placeholder named \"input\" using the TF Placeholder name parameter with rank 2.\n",
    "- Targets placeholder with rank 2.\n",
    "- Learning rate placeholder with rank 0.\n",
    "- Keep probability placeholder named \"keep_prob\" using the TF Placeholder name parameter with rank 0.\n",
    "\n",
    "Return the placeholders in the following the tuple (Input, Targets, Learing Rate, Keep Probability)"
   ]
  },
  {
   "cell_type": "code",
   "execution_count": 38,
   "metadata": {
    "collapsed": false,
    "deletable": true,
    "editable": true
   },
   "outputs": [
    {
     "name": "stdout",
     "output_type": "stream",
     "text": [
      "Tests Passed\n"
     ]
    }
   ],
   "source": [
    "def model_inputs():\n",
    "    \"\"\"\n",
    "    Create TF Placeholders for input, targets, and learning rate.\n",
    "    :return: Tuple (input, targets, learning rate, keep probability)\n",
    "    \"\"\"\n",
    "    # TODO: Implement Function\n",
    "    input_ = tf.placeholder(tf.int32, [None, None], name=\"input\")\n",
    "    target = tf.placeholder(tf.int32, [None, None], name=\"target\")\n",
    "    \n",
    "    lr = tf.placeholder(tf.float32)\n",
    "    keep_prob = tf.placeholder(tf.float32, name=\"keep_prob\")\n",
    "    return (input_, target, lr, keep_prob)\n",
    "\n",
    "\"\"\"\n",
    "DON'T MODIFY ANYTHING IN THIS CELL THAT IS BELOW THIS LINE\n",
    "\"\"\"\n",
    "tests.test_model_inputs(model_inputs)"
   ]
  },
  {
   "cell_type": "markdown",
   "metadata": {
    "deletable": true,
    "editable": true
   },
   "source": [
    "### Process Decoding Input\n",
    "Implement `process_decoding_input` using TensorFlow to remove the last word id from each batch in `target_data` and concat the GO ID to the begining of each batch."
   ]
  },
  {
   "cell_type": "code",
   "execution_count": 40,
   "metadata": {
    "collapsed": false,
    "deletable": true,
    "editable": true
   },
   "outputs": [
    {
     "name": "stdout",
     "output_type": "stream",
     "text": [
      "Tests Passed\n"
     ]
    }
   ],
   "source": [
    "def process_decoding_input(target_data, target_vocab_to_int, batch_size):\n",
    "    \"\"\"\n",
    "    Preprocess target data for dencoding\n",
    "    :param target_data: Target Placehoder\n",
    "    :param target_vocab_to_int: Dictionary to go from the target words to an id\n",
    "    :param batch_size: Batch Size\n",
    "    :return: Preprocessed target data\n",
    "    \"\"\"\n",
    "    # TODO: Implement Function\n",
    "    with tf.name_scope('process_decoder_input'):\n",
    "        rem_end = tf.strided_slice(target_data, [0,0], [batch_size, -1], [1,1])\n",
    "        processed_dec_input = tf.concat([tf.fill([batch_size,1], target_vocab_to_int['<GO>']),rem_end],1)\n",
    "    return processed_dec_input\n",
    "\"\"\"\n",
    "DON'T MODIFY ANYTHING IN THIS CELL THAT IS BELOW THIS LINE\n",
    "\"\"\"\n",
    "tests.test_process_decoding_input(process_decoding_input)"
   ]
  },
  {
   "cell_type": "markdown",
   "metadata": {
    "deletable": true,
    "editable": true
   },
   "source": [
    "### Encoding\n",
    "Implement `encoding_layer()` to create a Encoder RNN layer using [`tf.nn.dynamic_rnn()`](https://www.tensorflow.org/api_docs/python/tf/nn/dynamic_rnn)."
   ]
  },
  {
   "cell_type": "code",
   "execution_count": 41,
   "metadata": {
    "collapsed": false,
    "deletable": true,
    "editable": true
   },
   "outputs": [
    {
     "name": "stdout",
     "output_type": "stream",
     "text": [
      "Tests Passed\n"
     ]
    }
   ],
   "source": [
    "def encoding_layer(rnn_inputs, rnn_size, num_layers, keep_prob):\n",
    "    \"\"\"\n",
    "    Create encoding layer\n",
    "    :param rnn_inputs: Inputs for the RNN\n",
    "    :param rnn_size: RNN Size\n",
    "    :param num_layers: Number of layers\n",
    "    :param keep_prob: Dropout keep probability\n",
    "    :return: RNN state\n",
    "    \"\"\"\n",
    "    # TODO: Implement Function\n",
    "    with tf.name_scope(\"encoding_rnn_layer\"):\n",
    "        cell = tf.contrib.rnn.BasicLSTMCell(rnn_size)\n",
    "        drop = tf.contrib.rnn.DropoutWrapper(cell, keep_prob)\n",
    "        enc_cell = tf.contrib.rnn.MultiRNNCell([drop]*num_layers)\n",
    "\n",
    "        _, enc_state = tf.nn.dynamic_rnn(enc_cell, rnn_inputs, dtype=tf.float32)\n",
    "    \n",
    "    return enc_state\n",
    "\n",
    "\"\"\"\n",
    "DON'T MODIFY ANYTHING IN THIS CELL THAT IS BELOW THIS LINE\n",
    "\"\"\"\n",
    "tests.test_encoding_layer(encoding_layer)"
   ]
  },
  {
   "cell_type": "markdown",
   "metadata": {
    "deletable": true,
    "editable": true
   },
   "source": [
    "### Decoding - Training\n",
    "Create training logits using [`tf.contrib.seq2seq.simple_decoder_fn_train()`](https://www.tensorflow.org/api_docs/python/tf/contrib/seq2seq/simple_decoder_fn_train) and [`tf.contrib.seq2seq.dynamic_rnn_decoder()`](https://www.tensorflow.org/api_docs/python/tf/contrib/seq2seq/dynamic_rnn_decoder).  Apply the `output_fn` to the [`tf.contrib.seq2seq.dynamic_rnn_decoder()`](https://www.tensorflow.org/api_docs/python/tf/contrib/seq2seq/dynamic_rnn_decoder) outputs."
   ]
  },
  {
   "cell_type": "code",
   "execution_count": 42,
   "metadata": {
    "collapsed": false,
    "deletable": true,
    "editable": true
   },
   "outputs": [
    {
     "name": "stdout",
     "output_type": "stream",
     "text": [
      "Tests Passed\n"
     ]
    }
   ],
   "source": [
    "def decoding_layer_train(encoder_state, dec_cell, dec_embed_input, sequence_length, decoding_scope,\n",
    "                         output_fn, keep_prob):\n",
    "    \"\"\"\n",
    "    Create a decoding layer for training\n",
    "    :param encoder_state: Encoder State\n",
    "    :param dec_cell: Decoder RNN Cell\n",
    "    :param dec_embed_input: Decoder embedded input\n",
    "    :param sequence_length: Sequence Length\n",
    "    :param decoding_scope: TenorFlow Variable Scope for decoding\n",
    "    :param output_fn: Function to apply the output layer\n",
    "    :param keep_prob: Dropout keep probability\n",
    "    :return: Train Logits\n",
    "    \"\"\"\n",
    "    # TODO: Implement Function\n",
    "    with tf.name_scope(\"training_logits\"):\n",
    "        train_decoder_fn = tf.contrib.seq2seq.simple_decoder_fn_train(encoder_state)\n",
    "        train_prediction, _, _ = tf.contrib.seq2seq.dynamic_rnn_decoder(\n",
    "        dec_cell, train_decoder_fn, dec_embed_input, sequence_length, scope=decoding_scope)\n",
    "\n",
    "        train_logits = output_fn(train_prediction)\n",
    "    return train_logits\n",
    "\n",
    "\n",
    "\"\"\"\n",
    "DON'T MODIFY ANYTHING IN THIS CELL THAT IS BELOW THIS LINE\n",
    "\"\"\"\n",
    "tests.test_decoding_layer_train(decoding_layer_train)"
   ]
  },
  {
   "cell_type": "markdown",
   "metadata": {
    "deletable": true,
    "editable": true
   },
   "source": [
    "### Decoding - Inference\n",
    "Create inference logits using [`tf.contrib.seq2seq.simple_decoder_fn_inference()`](https://www.tensorflow.org/api_docs/python/tf/contrib/seq2seq/simple_decoder_fn_inference) and [`tf.contrib.seq2seq.dynamic_rnn_decoder()`](https://www.tensorflow.org/api_docs/python/tf/contrib/seq2seq/dynamic_rnn_decoder). "
   ]
  },
  {
   "cell_type": "code",
   "execution_count": 43,
   "metadata": {
    "collapsed": false,
    "deletable": true,
    "editable": true
   },
   "outputs": [
    {
     "name": "stdout",
     "output_type": "stream",
     "text": [
      "Tests Passed\n"
     ]
    }
   ],
   "source": [
    "def decoding_layer_infer(encoder_state, dec_cell, dec_embeddings, start_of_sequence_id, end_of_sequence_id,\n",
    "                         maximum_length, vocab_size, decoding_scope, output_fn, keep_prob):\n",
    "    \"\"\"\n",
    "    Create a decoding layer for inference\n",
    "    :param encoder_state: Encoder state\n",
    "    :param dec_cell: Decoder RNN Cell\n",
    "    :param dec_embeddings: Decoder embeddings\n",
    "    :param start_of_sequence_id: GO ID\n",
    "    :param end_of_sequence_id: EOS Id\n",
    "    :param maximum_length: The maximum allowed time steps to decode\n",
    "    :param vocab_size: Size of vocabulary\n",
    "    :param decoding_scope: TensorFlow Variable Scope for decoding\n",
    "    :param output_fn: Function to apply the output layer\n",
    "    :param keep_prob: Dropout keep probability\n",
    "    :return: Inference Logits\n",
    "    \"\"\"\n",
    "    # TODO: Implement Function\n",
    "    with tf.name_scope(\"inference_logits\"):\n",
    "        infer_decoder_fn = tf.contrib.seq2seq.simple_decoder_fn_inference(\n",
    "        output_fn, encoder_state, dec_embeddings, start_of_sequence_id, end_of_sequence_id, maximum_length, vocab_size)\n",
    "        infer_pred,_,_=tf.contrib.seq2seq.dynamic_rnn_decoder(dec_cell, infer_decoder_fn, scope=decoding_scope)\n",
    "\n",
    "    return infer_pred\n",
    "\n",
    "\n",
    "\"\"\"\n",
    "DON'T MODIFY ANYTHING IN THIS CELL THAT IS BELOW THIS LINE\n",
    "\"\"\"\n",
    "tests.test_decoding_layer_infer(decoding_layer_infer)"
   ]
  },
  {
   "cell_type": "markdown",
   "metadata": {
    "deletable": true,
    "editable": true
   },
   "source": [
    "### Build the Decoding Layer\n",
    "Implement `decoding_layer()` to create a Decoder RNN layer.\n",
    "\n",
    "- Create RNN cell for decoding using `rnn_size` and `num_layers`.\n",
    "- Create the output fuction using [`lambda`](https://docs.python.org/3/tutorial/controlflow.html#lambda-expressions) to transform it's input, logits, to class logits.\n",
    "- Use the your `decoding_layer_train(encoder_state, dec_cell, dec_embed_input, sequence_length, decoding_scope, output_fn, keep_prob)` function to get the training logits.\n",
    "- Use your `decoding_layer_infer(encoder_state, dec_cell, dec_embeddings, start_of_sequence_id, end_of_sequence_id, maximum_length, vocab_size, decoding_scope, output_fn, keep_prob)` function to get the inference logits.\n",
    "\n",
    "Note: You'll need to use [tf.variable_scope](https://www.tensorflow.org/api_docs/python/tf/variable_scope) to share variables between training and inference."
   ]
  },
  {
   "cell_type": "code",
   "execution_count": 45,
   "metadata": {
    "collapsed": false,
    "deletable": true,
    "editable": true
   },
   "outputs": [
    {
     "name": "stdout",
     "output_type": "stream",
     "text": [
      "Tests Passed\n"
     ]
    }
   ],
   "source": [
    "def decoding_layer(dec_embed_input, dec_embeddings, encoder_state, vocab_size, sequence_length, rnn_size,\n",
    "                   num_layers, target_vocab_to_int, keep_prob):\n",
    "    \"\"\"\n",
    "    Create decoding layer\n",
    "    :param dec_embed_input: Decoder embedded input\n",
    "    :param dec_embeddings: Decoder embeddings\n",
    "    :param encoder_state: The encoded state\n",
    "    :param vocab_size: Size of vocabulary\n",
    "    :param sequence_length: Sequence Length\n",
    "    :param rnn_size: RNN Size\n",
    "    :param num_layers: Number of layers\n",
    "    :param target_vocab_to_int: Dictionary to go from the target words to an id\n",
    "    :param keep_prob: Dropout keep probability\n",
    "    :return: Tuple of (Training Logits, Inference Logits)\n",
    "    \"\"\"\n",
    "    # TODO: Implement Function\n",
    "    # Create decoding cell\n",
    "    cell = tf.contrib.rnn.BasicLSTMCell(rnn_size)\n",
    "    drop = tf.contrib.rnn.DropoutWrapper(cell, keep_prob)\n",
    "    dec_cell = tf.contrib.rnn.MultiRNNCell([drop]*num_layers)\n",
    "    \n",
    "    # Create output function\n",
    "    with tf.variable_scope(\"decoding\") as decoding_scope:\n",
    "        output_fn = lambda x: tf.contrib.layers.fully_connected(x, vocab_size, None, scope=decoding_scope)\n",
    "        \n",
    "        # Get train logits\n",
    "        train_logits = decoding_layer_train(encoder_state, dec_cell, dec_embed_input, sequence_length, decoding_scope,\n",
    "                                           output_fn, keep_prob)\n",
    "        \n",
    "   # Get inference logits\n",
    "    with tf.variable_scope(\"decoding\", reuse=True) as decoding_scope:   \n",
    "        \n",
    "        infer_logits = decoding_layer_infer(encoder_state, dec_cell, dec_embeddings, target_vocab_to_int['<GO>'],\n",
    "                                           target_vocab_to_int['<EOS>'], sequence_length, vocab_size, decoding_scope,\n",
    "                                           output_fn, keep_prob)\n",
    "    \n",
    "    return (train_logits, infer_logits)\n",
    "\n",
    "\n",
    "\"\"\"\n",
    "DON'T MODIFY ANYTHING IN THIS CELL THAT IS BELOW THIS LINE\n",
    "\"\"\"\n",
    "tests.test_decoding_layer(decoding_layer)"
   ]
  },
  {
   "cell_type": "markdown",
   "metadata": {
    "deletable": true,
    "editable": true
   },
   "source": [
    "### Build the Neural Network\n",
    "Apply the functions you implemented above to:\n",
    "\n",
    "- Apply embedding to the input data for the encoder.\n",
    "- Encode the input using your `encoding_layer(rnn_inputs, rnn_size, num_layers, keep_prob)`.\n",
    "- Process target data using your `process_decoding_input(target_data, target_vocab_to_int, batch_size)` function.\n",
    "- Apply embedding to the target data for the decoder.\n",
    "- Decode the encoded input using your `decoding_layer(dec_embed_input, dec_embeddings, encoder_state, vocab_size, sequence_length, rnn_size, num_layers, target_vocab_to_int, keep_prob)`."
   ]
  },
  {
   "cell_type": "code",
   "execution_count": 29,
   "metadata": {
    "collapsed": false,
    "deletable": true,
    "editable": true
   },
   "outputs": [
    {
     "name": "stdout",
     "output_type": "stream",
     "text": [
      "Tests Passed\n"
     ]
    }
   ],
   "source": [
    "def seq2seq_model(input_data, target_data, keep_prob, batch_size, sequence_length, source_vocab_size, target_vocab_size,\n",
    "                  enc_embedding_size, dec_embedding_size, rnn_size, num_layers, target_vocab_to_int):\n",
    "    \"\"\"\n",
    "    Build the Sequence-to-Sequence part of the neural network\n",
    "    :param input_data: Input placeholder\n",
    "    :param target_data: Target placeholder\n",
    "    :param keep_prob: Dropout keep probability placeholder\n",
    "    :param batch_size: Batch Size\n",
    "    :param sequence_length: Sequence Length\n",
    "    :param source_vocab_size: Source vocabulary size\n",
    "    :param target_vocab_size: Target vocabulary size\n",
    "    :param enc_embedding_size: Decoder embedding size\n",
    "    :param dec_embedding_size: Encoder embedding size\n",
    "    :param rnn_size: RNN Size\n",
    "    :param num_layers: Number of layers\n",
    "    :param target_vocab_to_int: Dictionary to go from the target words to an id\n",
    "    :return: Tuple of (Training Logits, Inference Logits)\n",
    "    \"\"\"\n",
    "    \n",
    "    # Apply embedding to input data\n",
    "    enc_embed_input = tf.contrib.layers.embed_sequence(input_data, source_vocab_size, enc_embedding_size)\n",
    "    \n",
    "    # Encode embedded input\n",
    "    enc_state = encoding_layer(enc_embed_input, rnn_size, num_layers, keep_prob)\n",
    "    \n",
    "    # Process target data\n",
    "    process_target = process_decoding_input(target_data, target_vocab_to_int, batch_size)\n",
    "    \n",
    "    # Apply embedding to processed target data\n",
    "    dec_embedding = tf.Variable(tf.truncated_normal([target_vocab_size, dec_embedding_size], stddev=0.1))\n",
    "    embedded_target = tf.nn.embedding_lookup(dec_embedding, process_target)\n",
    "    \n",
    "    # Get train and inference logits\n",
    "    train_logits, infer_logits = decoding_layer(embedded_target, dec_embedding, enc_state, target_vocab_size,\n",
    "                                               sequence_length, rnn_size, num_layers, target_vocab_to_int, keep_prob)\n",
    "    return (train_logits, infer_logits)\n",
    "\n",
    "\n",
    "\"\"\"\n",
    "DON'T MODIFY ANYTHING IN THIS CELL THAT IS BELOW THIS LINE\n",
    "\"\"\"\n",
    "tests.test_seq2seq_model(seq2seq_model)"
   ]
  },
  {
   "cell_type": "markdown",
   "metadata": {
    "deletable": true,
    "editable": true
   },
   "source": [
    "## Neural Network Training\n",
    "### Hyperparameters\n",
    "Tune the following parameters:\n",
    "\n",
    "- Set `epochs` to the number of epochs.\n",
    "- Set `batch_size` to the batch size.\n",
    "- Set `rnn_size` to the size of the RNNs.\n",
    "- Set `num_layers` to the number of layers.\n",
    "- Set `encoding_embedding_size` to the size of the embedding for the encoder.\n",
    "- Set `decoding_embedding_size` to the size of the embedding for the decoder.\n",
    "- Set `learning_rate` to the learning rate.\n",
    "- Set `keep_probability` to the Dropout keep probability"
   ]
  },
  {
   "cell_type": "code",
   "execution_count": 35,
   "metadata": {
    "collapsed": true,
    "deletable": true,
    "editable": true
   },
   "outputs": [],
   "source": [
    "# Number of Epochs\n",
    "epochs = 15\n",
    "# Batch Size\n",
    "batch_size = 128\n",
    "# RNN Size\n",
    "rnn_size = 70\n",
    "# Number of Layers\n",
    "num_layers = 3\n",
    "# Embedding Size\n",
    "encoding_embedding_size = 300\n",
    "decoding_embedding_size = 300\n",
    "# Learning Rate\n",
    "learning_rate = 0.001\n",
    "# Dropout Keep Probability\n",
    "keep_probability = 0.7"
   ]
  },
  {
   "cell_type": "markdown",
   "metadata": {
    "deletable": true,
    "editable": true
   },
   "source": [
    "### Build the Graph\n",
    "Build the graph using the neural network you implemented."
   ]
  },
  {
   "cell_type": "code",
   "execution_count": 47,
   "metadata": {
    "collapsed": false,
    "deletable": true,
    "editable": true
   },
   "outputs": [],
   "source": [
    "\"\"\"\n",
    "DON'T MODIFY ANYTHING IN THIS CELL\n",
    "\"\"\"\n",
    "save_path = 'checkpoints/dev'\n",
    "(source_int_text, target_int_text), (source_vocab_to_int, target_vocab_to_int), _ = helper.load_preprocess()\n",
    "max_source_sentence_length = max([len(sentence) for sentence in source_int_text])\n",
    "\n",
    "train_graph = tf.Graph()\n",
    "with train_graph.as_default():\n",
    "    input_data, targets, lr, keep_prob = model_inputs()\n",
    "    sequence_length = tf.placeholder_with_default(max_source_sentence_length, None, name='sequence_length')\n",
    "    input_shape = tf.shape(input_data)\n",
    "    \n",
    "    train_logits, inference_logits = seq2seq_model(\n",
    "        tf.reverse(input_data, [-1]), targets, keep_prob, batch_size, sequence_length, len(source_vocab_to_int), len(target_vocab_to_int),\n",
    "        encoding_embedding_size, decoding_embedding_size, rnn_size, num_layers, target_vocab_to_int)\n",
    "\n",
    "    tf.identity(inference_logits, 'logits')\n",
    "    with tf.name_scope(\"cost\"):\n",
    "        # Loss function\n",
    "        cost = tf.contrib.seq2seq.sequence_loss(\n",
    "            train_logits,\n",
    "            targets,\n",
    "            tf.ones([input_shape[0], sequence_length]),\n",
    "            name='cost')\n",
    "        tf.summary.scalar('cost', cost)\n",
    "        \n",
    "    with tf.name_scope(\"optimizer\"):\n",
    "        # Optimizer\n",
    "        optimizer = tf.train.AdamOptimizer(lr)\n",
    "\n",
    "        # Gradient Clipping\n",
    "        gradients = optimizer.compute_gradients(cost)\n",
    "        capped_gradients = [(tf.clip_by_value(grad, -1., 1.), var) for grad, var in gradients if grad is not None]\n",
    "        train_op = optimizer.apply_gradients(capped_gradients)\n",
    "    \n",
    "    merged = tf.summary.merge_all()"
   ]
  },
  {
   "cell_type": "markdown",
   "metadata": {
    "deletable": true,
    "editable": true
   },
   "source": [
    "### Train\n",
    "Train the neural network on the preprocessed data. If you have a hard time getting a good loss, check the forms to see if anyone is having the same problem."
   ]
  },
  {
   "cell_type": "code",
   "execution_count": 48,
   "metadata": {
    "collapsed": false,
    "deletable": true,
    "editable": true,
    "scrolled": true
   },
   "outputs": [
    {
     "name": "stdout",
     "output_type": "stream",
     "text": [
      "Epoch   0 Batch    0/1077 - Train Accuracy:  0.160, Validation Accuracy:  0.201, Loss:  5.883\n",
      "Epoch   0 Batch  100/1077 - Train Accuracy:  0.304, Validation Accuracy:  0.376, Loss:  3.033\n",
      "Epoch   0 Batch  200/1077 - Train Accuracy:  0.413, Validation Accuracy:  0.467, Loss:  2.578\n",
      "Epoch   0 Batch  300/1077 - Train Accuracy:  0.405, Validation Accuracy:  0.492, Loss:  2.474\n",
      "Epoch   0 Batch  400/1077 - Train Accuracy:  0.440, Validation Accuracy:  0.495, Loss:  2.172\n",
      "Epoch   0 Batch  500/1077 - Train Accuracy:  0.444, Validation Accuracy:  0.487, Loss:  1.783\n",
      "Epoch   0 Batch  600/1077 - Train Accuracy:  0.472, Validation Accuracy:  0.510, Loss:  1.408\n",
      "Epoch   0 Batch  700/1077 - Train Accuracy:  0.453, Validation Accuracy:  0.502, Loss:  1.235\n",
      "Epoch   0 Batch  800/1077 - Train Accuracy:  0.398, Validation Accuracy:  0.408, Loss:  1.148\n",
      "Epoch   0 Batch  900/1077 - Train Accuracy:  0.416, Validation Accuracy:  0.457, Loss:  1.074\n",
      "Epoch   0 Batch 1000/1077 - Train Accuracy:  0.554, Validation Accuracy:  0.554, Loss:  0.911\n",
      "Epoch   1 Batch    0/1077 - Train Accuracy:  0.538, Validation Accuracy:  0.577, Loss:  0.890\n",
      "Epoch   1 Batch  100/1077 - Train Accuracy:  0.559, Validation Accuracy:  0.589, Loss:  0.874\n",
      "Epoch   1 Batch  200/1077 - Train Accuracy:  0.552, Validation Accuracy:  0.601, Loss:  0.827\n",
      "Epoch   1 Batch  300/1077 - Train Accuracy:  0.542, Validation Accuracy:  0.596, Loss:  0.799\n",
      "Epoch   1 Batch  400/1077 - Train Accuracy:  0.574, Validation Accuracy:  0.603, Loss:  0.748\n",
      "Epoch   1 Batch  500/1077 - Train Accuracy:  0.587, Validation Accuracy:  0.615, Loss:  0.709\n",
      "Epoch   1 Batch  600/1077 - Train Accuracy:  0.619, Validation Accuracy:  0.619, Loss:  0.641\n",
      "Epoch   1 Batch  700/1077 - Train Accuracy:  0.582, Validation Accuracy:  0.611, Loss:  0.657\n",
      "Epoch   1 Batch  800/1077 - Train Accuracy:  0.571, Validation Accuracy:  0.619, Loss:  0.641\n",
      "Epoch   1 Batch  900/1077 - Train Accuracy:  0.618, Validation Accuracy:  0.626, Loss:  0.632\n",
      "Epoch   1 Batch 1000/1077 - Train Accuracy:  0.668, Validation Accuracy:  0.635, Loss:  0.554\n",
      "Epoch   2 Batch    0/1077 - Train Accuracy:  0.626, Validation Accuracy:  0.638, Loss:  0.548\n",
      "Epoch   2 Batch  100/1077 - Train Accuracy:  0.629, Validation Accuracy:  0.645, Loss:  0.560\n",
      "Epoch   2 Batch  200/1077 - Train Accuracy:  0.633, Validation Accuracy:  0.648, Loss:  0.543\n",
      "Epoch   2 Batch  300/1077 - Train Accuracy:  0.660, Validation Accuracy:  0.659, Loss:  0.529\n",
      "Epoch   2 Batch  400/1077 - Train Accuracy:  0.671, Validation Accuracy:  0.661, Loss:  0.516\n",
      "Epoch   2 Batch  500/1077 - Train Accuracy:  0.683, Validation Accuracy:  0.683, Loss:  0.469\n",
      "Epoch   2 Batch  600/1077 - Train Accuracy:  0.697, Validation Accuracy:  0.694, Loss:  0.437\n",
      "Epoch   2 Batch  700/1077 - Train Accuracy:  0.665, Validation Accuracy:  0.693, Loss:  0.438\n",
      "Epoch   2 Batch  800/1077 - Train Accuracy:  0.693, Validation Accuracy:  0.714, Loss:  0.421\n",
      "Epoch   2 Batch  900/1077 - Train Accuracy:  0.727, Validation Accuracy:  0.725, Loss:  0.417\n",
      "Epoch   2 Batch 1000/1077 - Train Accuracy:  0.758, Validation Accuracy:  0.734, Loss:  0.365\n",
      "Epoch   3 Batch    0/1077 - Train Accuracy:  0.708, Validation Accuracy:  0.729, Loss:  0.358\n",
      "Epoch   3 Batch  100/1077 - Train Accuracy:  0.724, Validation Accuracy:  0.746, Loss:  0.370\n",
      "Epoch   3 Batch  200/1077 - Train Accuracy:  0.720, Validation Accuracy:  0.745, Loss:  0.367\n",
      "Epoch   3 Batch  300/1077 - Train Accuracy:  0.776, Validation Accuracy:  0.738, Loss:  0.356\n",
      "Epoch   3 Batch  400/1077 - Train Accuracy:  0.776, Validation Accuracy:  0.766, Loss:  0.360\n",
      "Epoch   3 Batch  500/1077 - Train Accuracy:  0.793, Validation Accuracy:  0.767, Loss:  0.321\n",
      "Epoch   3 Batch  600/1077 - Train Accuracy:  0.779, Validation Accuracy:  0.774, Loss:  0.303\n",
      "Epoch   3 Batch  700/1077 - Train Accuracy:  0.787, Validation Accuracy:  0.781, Loss:  0.291\n",
      "Epoch   3 Batch  800/1077 - Train Accuracy:  0.796, Validation Accuracy:  0.772, Loss:  0.288\n",
      "Epoch   3 Batch  900/1077 - Train Accuracy:  0.816, Validation Accuracy:  0.790, Loss:  0.291\n",
      "Epoch   3 Batch 1000/1077 - Train Accuracy:  0.815, Validation Accuracy:  0.796, Loss:  0.250\n",
      "Epoch   4 Batch    0/1077 - Train Accuracy:  0.789, Validation Accuracy:  0.800, Loss:  0.235\n",
      "Epoch   4 Batch  100/1077 - Train Accuracy:  0.806, Validation Accuracy:  0.822, Loss:  0.249\n",
      "Epoch   4 Batch  200/1077 - Train Accuracy:  0.793, Validation Accuracy:  0.814, Loss:  0.250\n",
      "Epoch   4 Batch  300/1077 - Train Accuracy:  0.856, Validation Accuracy:  0.819, Loss:  0.236\n",
      "Epoch   4 Batch  400/1077 - Train Accuracy:  0.827, Validation Accuracy:  0.810, Loss:  0.248\n",
      "Epoch   4 Batch  500/1077 - Train Accuracy:  0.869, Validation Accuracy:  0.809, Loss:  0.204\n",
      "Epoch   4 Batch  600/1077 - Train Accuracy:  0.824, Validation Accuracy:  0.818, Loss:  0.207\n",
      "Epoch   4 Batch  700/1077 - Train Accuracy:  0.838, Validation Accuracy:  0.822, Loss:  0.182\n",
      "Epoch   4 Batch  800/1077 - Train Accuracy:  0.836, Validation Accuracy:  0.826, Loss:  0.200\n",
      "Epoch   4 Batch  900/1077 - Train Accuracy:  0.879, Validation Accuracy:  0.838, Loss:  0.200\n",
      "Epoch   4 Batch 1000/1077 - Train Accuracy:  0.873, Validation Accuracy:  0.863, Loss:  0.171\n",
      "Epoch   5 Batch    0/1077 - Train Accuracy:  0.852, Validation Accuracy:  0.853, Loss:  0.170\n",
      "Epoch   5 Batch  100/1077 - Train Accuracy:  0.874, Validation Accuracy:  0.874, Loss:  0.156\n",
      "Epoch   5 Batch  200/1077 - Train Accuracy:  0.883, Validation Accuracy:  0.858, Loss:  0.167\n",
      "Epoch   5 Batch  300/1077 - Train Accuracy:  0.909, Validation Accuracy:  0.862, Loss:  0.150\n",
      "Epoch   5 Batch  400/1077 - Train Accuracy:  0.889, Validation Accuracy:  0.863, Loss:  0.166\n",
      "Epoch   5 Batch  500/1077 - Train Accuracy:  0.906, Validation Accuracy:  0.861, Loss:  0.130\n",
      "Epoch   5 Batch  600/1077 - Train Accuracy:  0.873, Validation Accuracy:  0.864, Loss:  0.137\n",
      "Epoch   5 Batch  700/1077 - Train Accuracy:  0.880, Validation Accuracy:  0.861, Loss:  0.125\n",
      "Epoch   5 Batch  800/1077 - Train Accuracy:  0.905, Validation Accuracy:  0.859, Loss:  0.128\n",
      "Epoch   5 Batch  900/1077 - Train Accuracy:  0.900, Validation Accuracy:  0.876, Loss:  0.132\n",
      "Epoch   5 Batch 1000/1077 - Train Accuracy:  0.905, Validation Accuracy:  0.870, Loss:  0.105\n",
      "Epoch   6 Batch    0/1077 - Train Accuracy:  0.887, Validation Accuracy:  0.877, Loss:  0.107\n",
      "Epoch   6 Batch  100/1077 - Train Accuracy:  0.925, Validation Accuracy:  0.887, Loss:  0.106\n",
      "Epoch   6 Batch  200/1077 - Train Accuracy:  0.881, Validation Accuracy:  0.869, Loss:  0.116\n",
      "Epoch   6 Batch  300/1077 - Train Accuracy:  0.943, Validation Accuracy:  0.888, Loss:  0.095\n",
      "Epoch   6 Batch  400/1077 - Train Accuracy:  0.920, Validation Accuracy:  0.888, Loss:  0.115\n",
      "Epoch   6 Batch  500/1077 - Train Accuracy:  0.919, Validation Accuracy:  0.887, Loss:  0.087\n",
      "Epoch   6 Batch  600/1077 - Train Accuracy:  0.892, Validation Accuracy:  0.895, Loss:  0.104\n",
      "Epoch   6 Batch  700/1077 - Train Accuracy:  0.907, Validation Accuracy:  0.887, Loss:  0.081\n",
      "Epoch   6 Batch  800/1077 - Train Accuracy:  0.900, Validation Accuracy:  0.888, Loss:  0.091\n",
      "Epoch   6 Batch  900/1077 - Train Accuracy:  0.913, Validation Accuracy:  0.897, Loss:  0.098\n",
      "Epoch   6 Batch 1000/1077 - Train Accuracy:  0.937, Validation Accuracy:  0.888, Loss:  0.075\n",
      "Epoch   7 Batch    0/1077 - Train Accuracy:  0.927, Validation Accuracy:  0.883, Loss:  0.077\n",
      "Epoch   7 Batch  100/1077 - Train Accuracy:  0.911, Validation Accuracy:  0.893, Loss:  0.083\n",
      "Epoch   7 Batch  200/1077 - Train Accuracy:  0.901, Validation Accuracy:  0.897, Loss:  0.083\n",
      "Epoch   7 Batch  300/1077 - Train Accuracy:  0.958, Validation Accuracy:  0.888, Loss:  0.067\n",
      "Epoch   7 Batch  400/1077 - Train Accuracy:  0.932, Validation Accuracy:  0.895, Loss:  0.091\n",
      "Epoch   7 Batch  500/1077 - Train Accuracy:  0.932, Validation Accuracy:  0.903, Loss:  0.070\n",
      "Epoch   7 Batch  600/1077 - Train Accuracy:  0.924, Validation Accuracy:  0.900, Loss:  0.082\n",
      "Epoch   7 Batch  700/1077 - Train Accuracy:  0.948, Validation Accuracy:  0.909, Loss:  0.063\n",
      "Epoch   7 Batch  800/1077 - Train Accuracy:  0.931, Validation Accuracy:  0.930, Loss:  0.073\n",
      "Epoch   7 Batch  900/1077 - Train Accuracy:  0.927, Validation Accuracy:  0.906, Loss:  0.075\n",
      "Epoch   7 Batch 1000/1077 - Train Accuracy:  0.938, Validation Accuracy:  0.910, Loss:  0.067\n",
      "Epoch   8 Batch    0/1077 - Train Accuracy:  0.944, Validation Accuracy:  0.907, Loss:  0.066\n",
      "Epoch   8 Batch  100/1077 - Train Accuracy:  0.920, Validation Accuracy:  0.908, Loss:  0.069\n",
      "Epoch   8 Batch  200/1077 - Train Accuracy:  0.914, Validation Accuracy:  0.920, Loss:  0.070\n",
      "Epoch   8 Batch  300/1077 - Train Accuracy:  0.958, Validation Accuracy:  0.903, Loss:  0.059\n",
      "Epoch   8 Batch  400/1077 - Train Accuracy:  0.937, Validation Accuracy:  0.920, Loss:  0.072\n",
      "Epoch   8 Batch  500/1077 - Train Accuracy:  0.934, Validation Accuracy:  0.923, Loss:  0.055\n",
      "Epoch   8 Batch  600/1077 - Train Accuracy:  0.937, Validation Accuracy:  0.910, Loss:  0.059\n",
      "Epoch   8 Batch  700/1077 - Train Accuracy:  0.934, Validation Accuracy:  0.952, Loss:  0.059\n",
      "Epoch   8 Batch  800/1077 - Train Accuracy:  0.938, Validation Accuracy:  0.924, Loss:  0.063\n",
      "Epoch   8 Batch  900/1077 - Train Accuracy:  0.947, Validation Accuracy:  0.927, Loss:  0.067\n",
      "Epoch   8 Batch 1000/1077 - Train Accuracy:  0.936, Validation Accuracy:  0.916, Loss:  0.055\n",
      "Epoch   9 Batch    0/1077 - Train Accuracy:  0.957, Validation Accuracy:  0.929, Loss:  0.051\n",
      "Epoch   9 Batch  100/1077 - Train Accuracy:  0.930, Validation Accuracy:  0.936, Loss:  0.054\n",
      "Epoch   9 Batch  200/1077 - Train Accuracy:  0.947, Validation Accuracy:  0.930, Loss:  0.058\n",
      "Epoch   9 Batch  300/1077 - Train Accuracy:  0.965, Validation Accuracy:  0.929, Loss:  0.046\n",
      "Epoch   9 Batch  400/1077 - Train Accuracy:  0.935, Validation Accuracy:  0.932, Loss:  0.063\n",
      "Epoch   9 Batch  500/1077 - Train Accuracy:  0.941, Validation Accuracy:  0.929, Loss:  0.048\n",
      "Epoch   9 Batch  600/1077 - Train Accuracy:  0.941, Validation Accuracy:  0.936, Loss:  0.058\n",
      "Epoch   9 Batch  700/1077 - Train Accuracy:  0.957, Validation Accuracy:  0.953, Loss:  0.048\n",
      "Epoch   9 Batch  800/1077 - Train Accuracy:  0.927, Validation Accuracy:  0.947, Loss:  0.048\n",
      "Epoch   9 Batch  900/1077 - Train Accuracy:  0.940, Validation Accuracy:  0.952, Loss:  0.061\n",
      "Epoch   9 Batch 1000/1077 - Train Accuracy:  0.938, Validation Accuracy:  0.941, Loss:  0.050\n",
      "Epoch  10 Batch    0/1077 - Train Accuracy:  0.959, Validation Accuracy:  0.932, Loss:  0.042\n",
      "Epoch  10 Batch  100/1077 - Train Accuracy:  0.936, Validation Accuracy:  0.943, Loss:  0.050\n",
      "Epoch  10 Batch  200/1077 - Train Accuracy:  0.929, Validation Accuracy:  0.941, Loss:  0.051\n",
      "Epoch  10 Batch  300/1077 - Train Accuracy:  0.975, Validation Accuracy:  0.933, Loss:  0.044\n",
      "Epoch  10 Batch  400/1077 - Train Accuracy:  0.945, Validation Accuracy:  0.947, Loss:  0.059\n",
      "Epoch  10 Batch  500/1077 - Train Accuracy:  0.945, Validation Accuracy:  0.940, Loss:  0.042\n",
      "Epoch  10 Batch  600/1077 - Train Accuracy:  0.951, Validation Accuracy:  0.955, Loss:  0.047\n",
      "Epoch  10 Batch  700/1077 - Train Accuracy:  0.967, Validation Accuracy:  0.956, Loss:  0.042\n",
      "Epoch  10 Batch  800/1077 - Train Accuracy:  0.954, Validation Accuracy:  0.953, Loss:  0.043\n",
      "Epoch  10 Batch  900/1077 - Train Accuracy:  0.961, Validation Accuracy:  0.962, Loss:  0.048\n",
      "Epoch  10 Batch 1000/1077 - Train Accuracy:  0.939, Validation Accuracy:  0.954, Loss:  0.045\n",
      "Epoch  11 Batch    0/1077 - Train Accuracy:  0.961, Validation Accuracy:  0.958, Loss:  0.042\n",
      "Epoch  11 Batch  100/1077 - Train Accuracy:  0.939, Validation Accuracy:  0.947, Loss:  0.044\n",
      "Epoch  11 Batch  200/1077 - Train Accuracy:  0.936, Validation Accuracy:  0.940, Loss:  0.044\n",
      "Epoch  11 Batch  300/1077 - Train Accuracy:  0.963, Validation Accuracy:  0.939, Loss:  0.035\n",
      "Epoch  11 Batch  400/1077 - Train Accuracy:  0.947, Validation Accuracy:  0.949, Loss:  0.055\n",
      "Epoch  11 Batch  500/1077 - Train Accuracy:  0.954, Validation Accuracy:  0.944, Loss:  0.031\n",
      "Epoch  11 Batch  600/1077 - Train Accuracy:  0.965, Validation Accuracy:  0.961, Loss:  0.038\n",
      "Epoch  11 Batch  700/1077 - Train Accuracy:  0.966, Validation Accuracy:  0.955, Loss:  0.035\n",
      "Epoch  11 Batch  800/1077 - Train Accuracy:  0.962, Validation Accuracy:  0.951, Loss:  0.033\n",
      "Epoch  11 Batch  900/1077 - Train Accuracy:  0.967, Validation Accuracy:  0.954, Loss:  0.046\n",
      "Epoch  11 Batch 1000/1077 - Train Accuracy:  0.952, Validation Accuracy:  0.946, Loss:  0.040\n",
      "Epoch  12 Batch    0/1077 - Train Accuracy:  0.950, Validation Accuracy:  0.948, Loss:  0.041\n",
      "Epoch  12 Batch  100/1077 - Train Accuracy:  0.961, Validation Accuracy:  0.957, Loss:  0.040\n",
      "Epoch  12 Batch  200/1077 - Train Accuracy:  0.951, Validation Accuracy:  0.955, Loss:  0.047\n",
      "Epoch  12 Batch  300/1077 - Train Accuracy:  0.975, Validation Accuracy:  0.940, Loss:  0.031\n",
      "Epoch  12 Batch  400/1077 - Train Accuracy:  0.950, Validation Accuracy:  0.951, Loss:  0.047\n",
      "Epoch  12 Batch  500/1077 - Train Accuracy:  0.963, Validation Accuracy:  0.949, Loss:  0.036\n",
      "Epoch  12 Batch  600/1077 - Train Accuracy:  0.964, Validation Accuracy:  0.952, Loss:  0.036\n",
      "Epoch  12 Batch  700/1077 - Train Accuracy:  0.962, Validation Accuracy:  0.953, Loss:  0.030\n",
      "Epoch  12 Batch  800/1077 - Train Accuracy:  0.959, Validation Accuracy:  0.952, Loss:  0.038\n",
      "Epoch  12 Batch  900/1077 - Train Accuracy:  0.970, Validation Accuracy:  0.959, Loss:  0.041\n",
      "Epoch  12 Batch 1000/1077 - Train Accuracy:  0.938, Validation Accuracy:  0.955, Loss:  0.038\n",
      "Epoch  13 Batch    0/1077 - Train Accuracy:  0.955, Validation Accuracy:  0.955, Loss:  0.033\n",
      "Epoch  13 Batch  100/1077 - Train Accuracy:  0.955, Validation Accuracy:  0.954, Loss:  0.032\n",
      "Epoch  13 Batch  200/1077 - Train Accuracy:  0.961, Validation Accuracy:  0.958, Loss:  0.045\n",
      "Epoch  13 Batch  300/1077 - Train Accuracy:  0.979, Validation Accuracy:  0.958, Loss:  0.026\n",
      "Epoch  13 Batch  400/1077 - Train Accuracy:  0.961, Validation Accuracy:  0.960, Loss:  0.048\n",
      "Epoch  13 Batch  500/1077 - Train Accuracy:  0.959, Validation Accuracy:  0.949, Loss:  0.027\n",
      "Epoch  13 Batch  600/1077 - Train Accuracy:  0.969, Validation Accuracy:  0.962, Loss:  0.036\n",
      "Epoch  13 Batch  700/1077 - Train Accuracy:  0.963, Validation Accuracy:  0.951, Loss:  0.037\n",
      "Epoch  13 Batch  800/1077 - Train Accuracy:  0.969, Validation Accuracy:  0.963, Loss:  0.031\n",
      "Epoch  13 Batch  900/1077 - Train Accuracy:  0.968, Validation Accuracy:  0.949, Loss:  0.039\n",
      "Epoch  13 Batch 1000/1077 - Train Accuracy:  0.952, Validation Accuracy:  0.954, Loss:  0.034\n",
      "Epoch  14 Batch    0/1077 - Train Accuracy:  0.964, Validation Accuracy:  0.960, Loss:  0.033\n",
      "Epoch  14 Batch  100/1077 - Train Accuracy:  0.963, Validation Accuracy:  0.955, Loss:  0.032\n",
      "Epoch  14 Batch  200/1077 - Train Accuracy:  0.956, Validation Accuracy:  0.956, Loss:  0.035\n",
      "Epoch  14 Batch  300/1077 - Train Accuracy:  0.966, Validation Accuracy:  0.958, Loss:  0.030\n",
      "Epoch  14 Batch  400/1077 - Train Accuracy:  0.964, Validation Accuracy:  0.955, Loss:  0.045\n",
      "Epoch  14 Batch  500/1077 - Train Accuracy:  0.966, Validation Accuracy:  0.960, Loss:  0.024\n",
      "Epoch  14 Batch  600/1077 - Train Accuracy:  0.970, Validation Accuracy:  0.955, Loss:  0.030\n",
      "Epoch  14 Batch  700/1077 - Train Accuracy:  0.967, Validation Accuracy:  0.953, Loss:  0.028\n",
      "Epoch  14 Batch  800/1077 - Train Accuracy:  0.974, Validation Accuracy:  0.956, Loss:  0.026\n",
      "Epoch  14 Batch  900/1077 - Train Accuracy:  0.958, Validation Accuracy:  0.961, Loss:  0.032\n",
      "Epoch  14 Batch 1000/1077 - Train Accuracy:  0.942, Validation Accuracy:  0.961, Loss:  0.034\n",
      "Model Trained and Saved\n"
     ]
    }
   ],
   "source": [
    "\"\"\"\n",
    "DON'T MODIFY ANYTHING IN THIS CELL\n",
    "\"\"\"\n",
    "import time\n",
    "\n",
    "def get_accuracy(target, logits):\n",
    "    \"\"\"\n",
    "    Calculate accuracy\n",
    "    \"\"\"\n",
    "    max_seq = max(target.shape[1], logits.shape[1])\n",
    "    if max_seq - target.shape[1]:\n",
    "        target = np.pad(\n",
    "            target,\n",
    "            [(0,0),(0,max_seq - target.shape[1])],\n",
    "            'constant')\n",
    "    if max_seq - logits.shape[1]:\n",
    "        logits = np.pad(\n",
    "            logits,\n",
    "            [(0,0),(0,max_seq - logits.shape[1]), (0,0)],\n",
    "            'constant')\n",
    "\n",
    "    return np.mean(np.equal(target, np.argmax(logits, 2)))\n",
    "\n",
    "train_source = source_int_text[batch_size:]\n",
    "train_target = target_int_text[batch_size:]\n",
    "\n",
    "valid_source = helper.pad_sentence_batch(source_int_text[:batch_size])\n",
    "valid_target = helper.pad_sentence_batch(target_int_text[:batch_size])\n",
    "\n",
    "with tf.Session(graph=train_graph) as sess:\n",
    "    sess.run(tf.global_variables_initializer())\n",
    "    file_writer = tf.summary.FileWriter('./logs', sess.graph)\n",
    "    file_writer_summary = tf.summary.FileWriter('./logs/summary')\n",
    "    iteration = 0\n",
    "\n",
    "    for epoch_i in range(epochs):\n",
    "        for batch_i, (source_batch, target_batch) in enumerate(\n",
    "                helper.batch_data(train_source, train_target, batch_size)):\n",
    "            start_time = time.time()\n",
    "            \n",
    "            _, loss,summary = sess.run(\n",
    "                [train_op, cost, merged],\n",
    "                {input_data: source_batch,\n",
    "                 targets: target_batch,\n",
    "                 lr: learning_rate,\n",
    "                 sequence_length: target_batch.shape[1],\n",
    "                 keep_prob: keep_probability})\n",
    "            \n",
    "            batch_train_logits = sess.run(\n",
    "                inference_logits,\n",
    "                {input_data: source_batch, keep_prob: 1.0})\n",
    "            batch_valid_logits = sess.run(\n",
    "                inference_logits,\n",
    "                {input_data: valid_source, keep_prob: 1.0})\n",
    "            \n",
    "            train_acc = get_accuracy(target_batch, batch_train_logits)\n",
    "            valid_acc = get_accuracy(np.array(valid_target), batch_valid_logits)\n",
    "            end_time = time.time()\n",
    "            if batch_i%100 == 0:\n",
    "                print('Epoch {:>3} Batch {:>4}/{} - Train Accuracy: {:>6.3f}, Validation Accuracy: {:>6.3f}, Loss: {:>6.3f}'\n",
    "                      .format(epoch_i, batch_i, len(source_int_text) // batch_size, train_acc, valid_acc, loss))\n",
    "            \n",
    "            file_writer_summary.add_summary(summary,iteration)\n",
    "            iteration += 1\n",
    "            \n",
    "    # Save Model\n",
    "    saver = tf.train.Saver()\n",
    "    saver.save(sess, save_path)\n",
    "    print('Model Trained and Saved')"
   ]
  },
  {
   "cell_type": "markdown",
   "metadata": {
    "deletable": true,
    "editable": true
   },
   "source": [
    "### Save Parameters\n",
    "Save the `batch_size` and `save_path` parameters for inference."
   ]
  },
  {
   "cell_type": "code",
   "execution_count": 49,
   "metadata": {
    "collapsed": false,
    "deletable": true,
    "editable": true
   },
   "outputs": [],
   "source": [
    "\"\"\"\n",
    "DON'T MODIFY ANYTHING IN THIS CELL\n",
    "\"\"\"\n",
    "# Save parameters for checkpoint\n",
    "helper.save_params(save_path)"
   ]
  },
  {
   "cell_type": "markdown",
   "metadata": {
    "deletable": true,
    "editable": true
   },
   "source": [
    "# Checkpoint"
   ]
  },
  {
   "cell_type": "code",
   "execution_count": 50,
   "metadata": {
    "collapsed": false,
    "deletable": true,
    "editable": true
   },
   "outputs": [],
   "source": [
    "\"\"\"\n",
    "DON'T MODIFY ANYTHING IN THIS CELL\n",
    "\"\"\"\n",
    "import tensorflow as tf\n",
    "import numpy as np\n",
    "import helper\n",
    "import problem_unittests as tests\n",
    "\n",
    "_, (source_vocab_to_int, target_vocab_to_int), (source_int_to_vocab, target_int_to_vocab) = helper.load_preprocess()\n",
    "load_path = helper.load_params()"
   ]
  },
  {
   "cell_type": "markdown",
   "metadata": {
    "deletable": true,
    "editable": true
   },
   "source": [
    "## Sentence to Sequence\n",
    "To feed a sentence into the model for translation, you first need to preprocess it.  Implement the function `sentence_to_seq()` to preprocess new sentences.\n",
    "\n",
    "- Convert the sentence to lowercase\n",
    "- Convert words into ids using `vocab_to_int`\n",
    " - Convert words not in the vocabulary, to the `<UNK>` word id."
   ]
  },
  {
   "cell_type": "code",
   "execution_count": 57,
   "metadata": {
    "collapsed": false,
    "deletable": true,
    "editable": true
   },
   "outputs": [
    {
     "name": "stdout",
     "output_type": "stream",
     "text": [
      "Tests Passed\n"
     ]
    }
   ],
   "source": [
    "def sentence_to_seq(sentence, vocab_to_int):\n",
    "    \"\"\"\n",
    "    Convert a sentence to a sequence of ids\n",
    "    :param sentence: String\n",
    "    :param vocab_to_int: Dictionary to go from the words to an id\n",
    "    :return: List of word ids\n",
    "    \"\"\"\n",
    "    # TODO: Implement Function\n",
    "    return [vocab_to_int.get(word.lower(), vocab_to_int['<UNK>']) for word in sentence.split()]\n",
    "\n",
    "\n",
    "\"\"\"\n",
    "DON'T MODIFY ANYTHING IN THIS CELL THAT IS BELOW THIS LINE\n",
    "\"\"\"\n",
    "tests.test_sentence_to_seq(sentence_to_seq)"
   ]
  },
  {
   "cell_type": "markdown",
   "metadata": {
    "deletable": true,
    "editable": true
   },
   "source": [
    "## Translate\n",
    "This will translate `translate_sentence` from English to French."
   ]
  },
  {
   "cell_type": "code",
   "execution_count": 77,
   "metadata": {
    "collapsed": false,
    "deletable": true,
    "editable": true
   },
   "outputs": [
    {
     "name": "stdout",
     "output_type": "stream",
     "text": [
      "Input\n",
      "  Word Ids:      [55, 115, 117, 158, 212, 163]\n",
      "  English Words: ['he', 'saw', 'a', 'old', 'truck', '.']\n",
      "\n",
      "Prediction\n",
      "  Word Ids:      [248, 45, 257, 97, 182, 325, 1]\n",
      "  French Words: ['il', 'a', 'vieux', 'au', 'octobre', '.', '<EOS>']\n"
     ]
    }
   ],
   "source": [
    "translate_sentence = 'he saw a old truck .' \n",
    "\n",
    "\"\"\"\n",
    "DON'T MODIFY ANYTHING IN THIS CELL\n",
    "\"\"\"\n",
    "translate_sentence = sentence_to_seq(translate_sentence, source_vocab_to_int)\n",
    "\n",
    "loaded_graph = tf.Graph()\n",
    "with tf.Session(graph=loaded_graph) as sess:\n",
    "    # Load saved model\n",
    "    loader = tf.train.import_meta_graph(load_path + '.meta')\n",
    "    loader.restore(sess, load_path)\n",
    "\n",
    "    input_data = loaded_graph.get_tensor_by_name('input:0')\n",
    "    logits = loaded_graph.get_tensor_by_name('logits:0')\n",
    "    keep_prob = loaded_graph.get_tensor_by_name('keep_prob:0')\n",
    "\n",
    "    translate_logits = sess.run(logits, {input_data: [translate_sentence], keep_prob: 1.0})[0]\n",
    "\n",
    "print('Input')\n",
    "print('  Word Ids:      {}'.format([i for i in translate_sentence]))\n",
    "print('  English Words: {}'.format([source_int_to_vocab[i] for i in translate_sentence]))\n",
    "\n",
    "print('\\nPrediction')\n",
    "print('  Word Ids:      {}'.format([i for i in np.argmax(translate_logits, 1)]))\n",
    "print('  French Words: {}'.format([target_int_to_vocab[i] for i in np.argmax(translate_logits, 1)]))"
   ]
  },
  {
   "cell_type": "markdown",
   "metadata": {
    "deletable": true,
    "editable": true
   },
   "source": [
    "## Imperfect Translation\n",
    "You might notice that some sentences translate better than others.  Since the dataset you're using only has a vocabulary of 227 English words of the thousands that you use, you're only going to see good results using these words.  For this project, you don't need a perfect translation. However, if you want to create a better translation model, you'll need better data.\n",
    "\n",
    "You can train on the [WMT10 French-English corpus](http://www.statmt.org/wmt10/training-giga-fren.tar).  This dataset has more vocabulary and richer in topics discussed.  However, this will take you days to train, so make sure you've a GPU and the neural network is performing well on dataset we provided.  Just make sure you play with the WMT10 corpus after you've submitted this project.\n",
    "## Submitting This Project\n",
    "When submitting this project, make sure to run all the cells before saving the notebook. Save the notebook file as \"dlnd_language_translation.ipynb\" and save it as a HTML file under \"File\" -> \"Download as\". Include the \"helper.py\" and \"problem_unittests.py\" files in your submission."
   ]
  }
 ],
 "metadata": {
  "anaconda-cloud": {},
  "kernelspec": {
   "display_name": "Python [conda env:dlnd-tf-lab]",
   "language": "python",
   "name": "conda-env-dlnd-tf-lab-py"
  },
  "language_info": {
   "codemirror_mode": {
    "name": "ipython",
    "version": 3
   },
   "file_extension": ".py",
   "mimetype": "text/x-python",
   "name": "python",
   "nbconvert_exporter": "python",
   "pygments_lexer": "ipython3",
   "version": "3.5.2"
  }
 },
 "nbformat": 4,
 "nbformat_minor": 0
}
